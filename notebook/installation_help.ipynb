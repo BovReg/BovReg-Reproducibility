{
 "cells": [
  {
   "cell_type": "markdown",
   "metadata": {},
   "source": [
    "<h2>How to create a Conda environment</h2>\n",
    "\n",
    "Follow the instruction below to generate a conda environment using the `yml` file provided in the repository:"
   ]
  },
  {
   "cell_type": "markdown",
   "metadata": {},
   "source": [
    "1. If you don't have conda installed in your system follow the instructions [here](https://docs.conda.io/projects/conda/en/latest/user-guide/install/)\n",
    "\n",
    "\n",
    "2. Create the environment from the repository `yml` file.\n",
    "\n",
    "```bash\n",
    "cd /your_path/BovReg-Reproducibility/rnaseq-nf\n",
    "conda env create -f conda.yml\n",
    "```\n",
    "\n",
    "3. Once the environment is created activate it\n",
    "\n",
    "```bash\n",
    "conda activate rnaseq-nf\n",
    "```\n",
    "\n",
    "4. Run the jupyter notebook after activating the environment\n",
    "\n",
    "```bash\n",
    "cd /your_path/BovReg-Reproducibility/notebook\n",
    "jupyter notebook\n",
    "```"
   ]
  },
  {
   "cell_type": "markdown",
   "metadata": {},
   "source": [
    " <h2>How to install Nextflow</h2>"
   ]
  },
  {
   "cell_type": "markdown",
   "metadata": {},
   "source": [
    "1. Install nextflow by running the following command:\n",
    "\n",
    "```bash\n",
    "$ curl -fsSL get.nextflow.io | bash\n",
    "```\n",
    "\n",
    "> **_Note:_** You can optionally move the nextflow file to a directory accessible by your $PATH variable \n",
    "(otherwise you will have to type always the full path to run nextflow)."
   ]
  },
  {
   "cell_type": "markdown",
   "metadata": {},
   "source": [
    "<h2>How to install Docker</h2>"
   ]
  },
  {
   "cell_type": "markdown",
   "metadata": {},
   "source": [
    "Follow [this](https://docs.docker.com/install/) instructions to install Docker Engine 1.10.x (or later)   "
   ]
  }
 ],
 "metadata": {
  "kernelspec": {
   "display_name": "Python 3",
   "language": "python",
   "name": "python3"
  },
  "language_info": {
   "codemirror_mode": {
    "name": "ipython",
    "version": 3
   },
   "file_extension": ".py",
   "mimetype": "text/x-python",
   "name": "python",
   "nbconvert_exporter": "python",
   "pygments_lexer": "ipython3",
   "version": "3.6.7"
  }
 },
 "nbformat": 4,
 "nbformat_minor": 4
}
