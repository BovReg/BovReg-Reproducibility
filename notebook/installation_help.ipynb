{
 "cells": [
  {
   "cell_type": "markdown",
   "metadata": {},
   "source": [
    "<h2>How to create a Conda environment</h2>\n",
    "\n",
    "Follow the instruction below to generate a conda environment using the `yml` file provided in the repository:"
   ]
  },
  {
   "cell_type": "markdown",
   "metadata": {},
   "source": [
    "1. Create the environment from the repository `yml` file.\n",
    "\n",
    "```bash\n",
    "cd /your_path/BovReg-Reproducibility/rnaseq-nf\n",
    "conda env create -f conda.yml\n",
    "```\n",
    "\n",
    "2. Once the environment is created activate it\n",
    "\n",
    "```bash\n",
    "conda activate rnaseq-nf\n",
    "```\n",
    "\n",
    "3. Run the jupyter notebook after activating the environment\n",
    "\n",
    "```bash\n",
    "cd /your_path/BovReg-Reproducibility/notebook\n",
    "jupyter notebook\n",
    "```"
   ]
  }
 ],
 "metadata": {
  "kernelspec": {
   "display_name": "Python 3",
   "language": "python",
   "name": "python3"
  },
  "language_info": {
   "codemirror_mode": {
    "name": "ipython",
    "version": 3
   },
   "file_extension": ".py",
   "mimetype": "text/x-python",
   "name": "python",
   "nbconvert_exporter": "python",
   "pygments_lexer": "ipython3",
   "version": "3.6.7"
  }
 },
 "nbformat": 4,
 "nbformat_minor": 4
}
