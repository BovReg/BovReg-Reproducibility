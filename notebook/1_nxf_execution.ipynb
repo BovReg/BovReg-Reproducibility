{
 "cells": [
  {
   "cell_type": "raw",
   "metadata": {},
   "source": "# Run pipeline with nextflow and conda\n\n"
  },
  {
   "cell_type": "code",
   "execution_count": 2,
   "metadata": {},
   "outputs": [
    {
     "data": {
      "text/plain": "'/home/jespinosa/git/BovReg-Reproducibility/rnaseq-nf'"
     },
     "execution_count": 2,
     "metadata": {},
     "output_type": "execute_result"
    }
   ],
   "source": "# Command to change to the base directory of the repository\nimport os\npwd = os.getcwd()\nos.getcwd()\npipeline_folder = \"rnaseq-nf\" \nwork_dir = pwd + \"/../\" + pipeline_folder\nos.chdir(work_dir)\nos.getcwd()"
  },
  {
   "cell_type": "code",
   "execution_count": 4,
   "metadata": {},
   "outputs": [
    {
     "name": "stdout",
     "output_type": "stream",
     "text": "N E X T F L O W  ~  version 19.10.0\r\nNot a valid project name: main.nf\r\n"
    }
   ],
   "source": "!nextflow run main.nf -profile conda"
  },
  {
   "cell_type": "code",
   "execution_count": null,
   "metadata": {},
   "outputs": [],
   "source": ""
  }
 ],
 "metadata": {
  "kernelspec": {
   "display_name": "Python 2",
   "language": "python",
   "name": "python2"
  },
  "language_info": {
   "codemirror_mode": {
    "name": "ipython",
    "version": 2
   },
   "file_extension": ".py",
   "mimetype": "text/x-python",
   "name": "python",
   "nbconvert_exporter": "python",
   "pygments_lexer": "ipython2",
   "version": "2.7.16"
  }
 },
 "nbformat": 4,
 "nbformat_minor": 2
}
