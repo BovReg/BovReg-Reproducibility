{
 "cells": [
  {
   "cell_type": "markdown",
   "metadata": {},
   "source": [
    "# Run pipeline with bash \n",
    "\n",
    "You will need to install Salmon, fastQC and multiQC before running the commands below. Otherwise, you can create the conda environment, activate it and run the notebook then, as explained [here](create_conda_env.ipynb). \n",
    "\n"
   ]
  },
  {
   "cell_type": "markdown",
   "metadata": {},
   "source": [
    "### Set pipeline folder"
   ]
  },
  {
   "cell_type": "code",
   "execution_count": null,
   "metadata": {},
   "outputs": [],
   "source": [
    "import os, shutil\n",
    "pwd = os.getcwd()\n",
    "pipeline_folder = pwd + \"/../\" + \"rnaseq-nf\" \n",
    "\n",
    "os.chdir(pipeline_folder)"
   ]
  },
  {
   "cell_type": "markdown",
   "metadata": {},
   "source": [
    "### Move fastq files and call bash script to rename input files"
   ]
  },
  {
   "cell_type": "code",
   "execution_count": null,
   "metadata": {},
   "outputs": [],
   "source": [
    "fq_folder = pipeline_folder + \"/data_chicken\"\n",
    "\n",
    "if not os.path.exists(fq_folder):\n",
    "    os.makedirs(fq_folder) \n",
    "    \n",
    "!cp data/ggal/ggal_gut*.fq ./data_chicken\n",
    "\n",
    "os.chdir(fq_folder)\n",
    "\n",
    "## Calling bash script to rename files\n",
    "!../bin/rename_files.sh"
   ]
  },
  {
   "cell_type": "markdown",
   "metadata": {},
   "source": [
    "### Create Salmon index"
   ]
  },
  {
   "cell_type": "code",
   "execution_count": null,
   "metadata": {},
   "outputs": [],
   "source": [
    "os.chdir(pipeline_folder)\n",
    "!salmon index --threads 1 -t ./data/ggal/ggal_1_48850000_49020000.Ggal71.500bpflank.fa -i index"
   ]
  },
  {
   "cell_type": "markdown",
   "metadata": {},
   "source": [
    "### Create folders to dump results "
   ]
  },
  {
   "cell_type": "code",
   "execution_count": null,
   "metadata": {},
   "outputs": [],
   "source": [
    "## Set results folders\n",
    "r_fastqc = pipeline_folder + \"/results_fastqc\"\n",
    "r_salmon = pipeline_folder + \"/results_salmon\"\n",
    "d_multiqc = pipeline_folder + \"/multiqc_in\"\n",
    "r_multiqc = pipeline_folder + \"/results_multiqc\"\n",
    "\n",
    "try:\n",
    "    shutil.rmtree(r_fastqc)\n",
    "except OSError:\n",
    "    pass\n",
    "\n",
    "try:\n",
    "    shutil.rmtree(r_salmon)\n",
    "except OSError:\n",
    "    pass\n",
    "\n",
    "try:\n",
    "    shutil.rmtree(d_multiqc)\n",
    "except OSError:\n",
    "    pass\n",
    "\n",
    "try:\n",
    "    shutil.rmtree(r_multiqc)\n",
    "except OSError:\n",
    "    pass\n",
    "\n",
    "os.makedirs(r_fastqc)\n",
    "os.makedirs(d_multiqc)"
   ]
  },
  {
   "cell_type": "markdown",
   "metadata": {},
   "source": [
    "### Run Salmon and remove index"
   ]
  },
  {
   "cell_type": "code",
   "execution_count": null,
   "metadata": {},
   "outputs": [],
   "source": [
    "!salmon quant --threads 1 --libType=U -i index -1 ./data_chicken/chicken_gut_1.fq -2 ./data_chicken/chicken_gut_2.fq -o results_salmon\n",
    "!rm -rf index"
   ]
  },
  {
   "cell_type": "markdown",
   "metadata": {},
   "source": [
    "### Create fastQC results folder and run it"
   ]
  },
  {
   "cell_type": "code",
   "execution_count": null,
   "metadata": {},
   "outputs": [],
   "source": [
    "!fastqc -o results_fastqc -f fastq -q ./data_chicken/*.fq"
   ]
  },
  {
   "cell_type": "markdown",
   "metadata": {},
   "source": [
    "### Create folders to move input and results for multiQC"
   ]
  },
  {
   "cell_type": "code",
   "execution_count": null,
   "metadata": {},
   "outputs": [],
   "source": [
    "!cp results_fastqc/* multiqc_in\n",
    "!cp -rf results_salmon/* multiqc_in\n",
    "!cp multiqc/* multiqc_in\n",
    "!echo \"custom_logo: $PWD/multiqc_in/logo.png\" >> multiqc_in/multiqc_config.yaml\n",
    "\n",
    "os.chdir(d_multiqc)"
   ]
  },
  {
   "cell_type": "markdown",
   "metadata": {},
   "source": [
    "### Run multiQC"
   ]
  },
  {
   "cell_type": "code",
   "execution_count": null,
   "metadata": {},
   "outputs": [],
   "source": [
    "!multiqc -v . --outdir ../results_multiqc/"
   ]
  },
  {
   "cell_type": "markdown",
   "metadata": {},
   "source": [
    "### Remove input data for multiQC and calling firefox to display multiQC report "
   ]
  },
  {
   "cell_type": "code",
   "execution_count": null,
   "metadata": {},
   "outputs": [],
   "source": [
    "os.chdir(r_multiqc)\n",
    "shutil.rmtree(d_multiqc)\n",
    "\n",
    "### Uncomment to show the report on firefox, otherwise go to \n",
    "### /your_path/BovReg-Reproducibility/rnaseq-nf/results_multiqc and open the file multiqc_report.html\n",
    "### with your favourite browser\n",
    "\n",
    "# !firefox multiqc_report.html"
   ]
  }
 ],
 "metadata": {
  "kernelspec": {
   "display_name": "Python 2",
   "language": "python",
   "name": "python2"
  },
  "language_info": {
   "codemirror_mode": {
    "name": "ipython",
    "version": 3
   },
   "file_extension": ".py",
   "mimetype": "text/x-python",
   "name": "python",
   "nbconvert_exporter": "python",
   "pygments_lexer": "ipython3",
   "version": "3.6.10"
  }
 },
 "nbformat": 4,
 "nbformat_minor": 2
}
