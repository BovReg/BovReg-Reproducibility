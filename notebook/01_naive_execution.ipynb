{
 "cells": [
  {
   "cell_type": "markdown",
   "metadata": {},
   "source": [
    "# Run pipeline with bash \n",
    "\n",
    "You will need to install Salmon, fastQC and multiQC before running the commands below. Otherwise, you can create the conda environment, activate it and run the notebook then, as explained [here](create_conda_env.ipynb). \n",
    "\n"
   ]
  },
  {
   "cell_type": "markdown",
   "metadata": {},
   "source": [
    "### Set pipeline folder"
   ]
  },
  {
   "cell_type": "code",
   "execution_count": null,
   "metadata": {},
   "outputs": [],
   "source": [
    "import os, shutil\n",
    "pwd = os.getcwd()\n",
    "os.getcwd()\n",
    "pipeline_folder = \"rnaseq-nf\" \n",
    "work_dir = pwd + \"/../\" + pipeline_folder\n",
    "os.chdir(work_dir)"
   ]
  },
  {
   "cell_type": "markdown",
   "metadata": {},
   "source": [
    "### Create Salmon index"
   ]
  },
  {
   "cell_type": "code",
   "execution_count": null,
   "metadata": {},
   "outputs": [],
   "source": [
    "!salmon index --threads 1 -t ./data/ggal/ggal_1_48850000_49020000.Ggal71.500bpflank.fa -i index"
   ]
  },
  {
   "cell_type": "markdown",
   "metadata": {},
   "source": [
    "### Run Salmon and remove index"
   ]
  },
  {
   "cell_type": "code",
   "execution_count": null,
   "metadata": {},
   "outputs": [],
   "source": [
    "!salmon quant --threads 1 --libType=U -i index -1 ./data/ggal/ggal_gut_1.fq -2 ./data/ggal/ggal_gut_2.fq  -o results_salmon\n",
    "!rm -rf index"
   ]
  },
  {
   "cell_type": "markdown",
   "metadata": {},
   "source": [
    "### Create fastQC results folder and run it"
   ]
  },
  {
   "cell_type": "code",
   "execution_count": null,
   "metadata": {},
   "outputs": [],
   "source": [
    "if not os.path.exists(\"results_fastqc\"):\n",
    "    os.makedirs(\"results_fastqc\")\n",
    "    \n",
    "!fastqc -o results_fastqc -f fastq -q ./data/ggal/ggal_gut_*.fq"
   ]
  },
  {
   "cell_type": "markdown",
   "metadata": {},
   "source": [
    "### Create folders to move input and results for multiQC"
   ]
  },
  {
   "cell_type": "code",
   "execution_count": null,
   "metadata": {},
   "outputs": [],
   "source": [
    "if not os.path.exists(\"multiqc_in\"):\n",
    "    os.makedirs(\"multiqc_in\")\n",
    "\n",
    "if not os.path.exists(\"results_multiqc\"):\n",
    "    os.makedirs(\"results_multiqc\")\n",
    "\n",
    "!cp results_fastqc/* multiqc_in\n",
    "!cp -rf results_salmon/* multiqc_in\n",
    "!cp multiqc/* multiqc_in\n",
    "!echo \"custom_logo: $PWD/multiqc_in/logo.png\" >> multiqc_in/multiqc_config.yaml\n",
    "\n",
    "pwd = os.getcwd()\n",
    "work_dir = pwd + \"/multiqc_in\"\n",
    "os.chdir(work_dir)"
   ]
  },
  {
   "cell_type": "markdown",
   "metadata": {},
   "source": [
    "### Remove multiQC report if run before"
   ]
  },
  {
   "cell_type": "code",
   "execution_count": null,
   "metadata": {},
   "outputs": [],
   "source": [
    "res_dir = pwd + \"/results_multiqc\"\n",
    "\n",
    "try:\n",
    "    shutil.rmtree(res_dir)\n",
    "except OSError:\n",
    "    pass"
   ]
  },
  {
   "cell_type": "markdown",
   "metadata": {},
   "source": [
    "### Run multiQC"
   ]
  },
  {
   "cell_type": "code",
   "execution_count": null,
   "metadata": {},
   "outputs": [],
   "source": [
    "!multiqc -v . --outdir ../results_multiqc/"
   ]
  },
  {
   "cell_type": "markdown",
   "metadata": {},
   "source": [
    "### Remove input data for multiQC and calling firefox to display multiQC report "
   ]
  },
  {
   "cell_type": "code",
   "execution_count": null,
   "metadata": {},
   "outputs": [],
   "source": [
    "os.chdir(res_dir)\n",
    "shutil.rmtree(work_dir)\n",
    "\n",
    "### Uncomment to show the report on firefox, otherwise go to \n",
    "### /your_path/BovReg-Reproducibility/rnaseq-nf/results_multiqc and open the file multiqc_report.html\n",
    "### with your favourite browser\n",
    "\n",
    "# !firefox multiqc_report.html"
   ]
  },
  {
   "cell_type": "code",
   "execution_count": null,
   "metadata": {},
   "outputs": [],
   "source": []
  }
 ],
 "metadata": {
  "kernelspec": {
   "display_name": "Python 3",
   "language": "python",
   "name": "python3"
  },
  "language_info": {
   "codemirror_mode": {
    "name": "ipython",
    "version": 3
   },
   "file_extension": ".py",
   "mimetype": "text/x-python",
   "name": "python",
   "nbconvert_exporter": "python",
   "pygments_lexer": "ipython3",
   "version": "3.6.10"
  }
 },
 "nbformat": 4,
 "nbformat_minor": 2
}
