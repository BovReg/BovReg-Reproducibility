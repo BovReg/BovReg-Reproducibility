{
 "cells": [
  {
   "cell_type": "markdown",
   "metadata": {},
   "source": "# Run pipeline with bash\n\nYou will need to install Salmon, fastQC and multiQC before running the commands below. Otherwise, you can create the conda environment, activate it and run the notebook then, as explained [here](create_conda_env.ipynb). \n\n> **_Note:_** Assumes you launched the notebook from `your_path/BovReg-Reproducibility/notebook/`"
  },
  {
   "cell_type": "markdown",
   "metadata": {},
   "source": "### Set pipeline folder"
  },
  {
   "cell_type": "code",
   "execution_count": null,
   "metadata": {},
   "outputs": [],
   "source": "# Command to change to the base directory of the repository\nimport os, shutil\npwd = os.getcwd()\npipeline_folder = pwd + \"/../\" + \"rnaseq-nf\" \n\nos.chdir(pipeline_folder)"
  },
  {
   "cell_type": "markdown",
   "metadata": {},
   "source": "### Move fastq files and call bash script to rename input files"
  },
  {
   "cell_type": "code",
   "execution_count": null,
   "metadata": {},
   "outputs": [],
   "source": "fq_folder = pipeline_folder + \"/data_chicken\"\n\nif not os.path.exists(fq_folder):\n    os.makedirs(fq_folder) \n    \n!cp data/ggal/ggal_gut*.fq ./data_chicken\n\nos.chdir(fq_folder)\n\n## Calling bash script to rename files\n!../bin/rename_files.sh"
  },
  {
   "cell_type": "markdown",
   "metadata": {},
   "source": "### Create Salmon index"
  },
  {
   "cell_type": "code",
   "execution_count": null,
   "metadata": {},
   "outputs": [],
   "source": "os.chdir(pipeline_folder)\n!salmon index --threads 1 -t ./data/ggal/ggal_1_48850000_49020000.Ggal71.500bpflank.fa -i index"
  },
  {
   "cell_type": "markdown",
   "metadata": {},
   "source": "### Create folders to dump results "
  },
  {
   "cell_type": "code",
   "execution_count": null,
   "metadata": {},
   "outputs": [],
   "source": "## Set results folders\nr_fastqc = pipeline_folder + \"/results_fastqc\"\nr_salmon = pipeline_folder + \"/results_salmon\"\nd_multiqc = pipeline_folder + \"/multiqc_in\"\nr_multiqc = pipeline_folder + \"/results_multiqc\"\n\ntry:\n    shutil.rmtree(r_fastqc)\nexcept OSError:\n    pass\n\ntry:\n    shutil.rmtree(r_salmon)\nexcept OSError:\n    pass\n\ntry:\n    shutil.rmtree(d_multiqc)\nexcept OSError:\n    pass\n\ntry:\n    shutil.rmtree(r_multiqc)\nexcept OSError:\n    pass\n\nos.makedirs(r_fastqc)\nos.makedirs(d_multiqc)"
  },
  {
   "cell_type": "markdown",
   "metadata": {},
   "source": "### Run Salmon and remove index"
  },
  {
   "cell_type": "code",
   "execution_count": null,
   "metadata": {},
   "outputs": [],
   "source": "!salmon quant --threads 1 --libType=U -i index -1 ./data_chicken/chicken_gut_1.fq -2 ./data_chicken/chicken_gut_2.fq -o results_salmon\n!rm -rf index"
  },
  {
   "cell_type": "markdown",
   "metadata": {},
   "source": "### Create fastQC results folder and run it"
  },
  {
   "cell_type": "code",
   "execution_count": null,
   "metadata": {},
   "outputs": [],
   "source": "!fastqc -o results_fastqc -f fastq -q ./data_chicken/*.fq"
  },
  {
   "cell_type": "markdown",
   "metadata": {},
   "source": "### Create folders to move input and results for multiQC"
  },
  {
   "cell_type": "code",
   "execution_count": null,
   "metadata": {},
   "outputs": [],
   "source": "!cp results_fastqc/* multiqc_in\n!cp -rf results_salmon/* multiqc_in\n!cp multiqc/* multiqc_in\n!echo \"custom_logo: $PWD/multiqc_in/logo.png\" >> multiqc_in/multiqc_config.yaml\n\nos.chdir(d_multiqc)"
  },
  {
   "cell_type": "markdown",
   "metadata": {},
   "source": "### Run multiQC"
  },
  {
   "cell_type": "code",
   "execution_count": null,
   "metadata": {},
   "outputs": [],
   "source": "!multiqc -v . --outdir ../results_multiqc/"
  },
  {
   "cell_type": "markdown",
   "metadata": {},
   "source": "### Remove input data for multiQC and calling firefox to display multiQC report "
  },
  {
   "cell_type": "code",
   "execution_count": null,
   "metadata": {},
   "outputs": [],
   "source": "os.chdir(r_multiqc)\nshutil.rmtree(d_multiqc)\n\n### Uncomment to show the report on firefox, otherwise go to \n### /your_path/BovReg-Reproducibility/rnaseq-nf/results_multiqc and open the file multiqc_report.html\n### with your favourite browser\n\n# !firefox multiqc_report.html"
  }
 ],
 "metadata": {
  "kernelspec": {
   "display_name": "Python 2",
   "language": "python",
   "name": "python2"
  },
  "language_info": {
   "codemirror_mode": {
    "name": "ipython",
    "version": 2
   },
   "file_extension": ".py",
   "mimetype": "text/x-python",
   "name": "python",
   "nbconvert_exporter": "python",
   "pygments_lexer": "ipython2",
   "version": "2.7.16"
  }
 },
 "nbformat": 4,
 "nbformat_minor": 2
}
