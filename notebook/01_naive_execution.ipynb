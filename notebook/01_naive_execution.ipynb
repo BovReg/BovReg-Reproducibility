{
 "cells": [
  {
   "cell_type": "markdown",
   "execution_count": null,
   "metadata": {},
   "outputs": [],
   "source": [
    "# Run pipeline with bash (You will need to install salmon, fastQC and multiQC first)\n",
    "\n"
   ]
  },
  {
   "cell_type": "code",
   "execution_count": null,
   "metadata": {},
   "outputs": [],
   "source": [
    "import os, shutil\n",
    "pwd = os.getcwd()\n",
    "os.getcwd()\n",
    "pipeline_folder = \"rnaseq-nf\" \n",
    "work_dir = pwd + \"/../\" + pipeline_folder\n",
    "os.chdir(work_dir)\n",
    "os.getcwd()"
   ]
  },
  {
   "cell_type": "code",
   "execution_count": null,
   "metadata": {},
   "outputs": [],
   "source": [
    "!salmon index --threads 1 -t ./data/ggal/ggal_1_48850000_49020000.Ggal71.500bpflank.fa -i index"
   ]
  },
  {
   "cell_type": "code",
   "execution_count": null,
   "metadata": {},
   "outputs": [],
   "source": [
    "!salmon quant --threads 1 --libType=U -i index -1 ./data/ggal/ggal_gut_1.fq -2 ./data/ggal/ggal_gut_2.fq  -o results_salmon\n",
    "!rm -rf index"
   ]
  },
  {
   "cell_type": "code",
   "execution_count": null,
   "metadata": {},
   "outputs": [],
   "source": [
    "if not os.path.exists(\"results_fastqc\"):\n",
    "    os.makedirs(\"results_fastqc\")\n",
    "    \n",
    "!fastqc -o results_fastqc -f fastq -q ./data/ggal/ggal_gut_*.fq\n",
    "\n"
   ]
  },
  {
   "cell_type": "code",
   "execution_count": null,
   "metadata": {},
   "outputs": [],
   "source": [
    "if not os.path.exists(\"multiqc_in\"):\n",
    "    os.makedirs(\"multiqc_in\")\n",
    "\n",
    "if not os.path.exists(\"results_multiqc\"):\n",
    "    os.makedirs(\"results_multiqc\")\n",
    "\n",
    "!cp results_fastqc/* multiqc_in\n",
    "!cp -rf results_salmon/* multiqc_in\n",
    "!cp multiqc/* multiqc_in\n",
    "!echo \"custom_logo: $PWD/multiqc_in/logo.png\" >> multiqc_in/multiqc_config.yaml\n",
    "\n",
    "pwd = os.getcwd()\n",
    "work_dir = pwd + \"/multiqc_in\"\n",
    "os.chdir(work_dir)\n",
    "os.getcwd()\n",
    "\n",
    "!multiqc -v . --outdir ../results_multiqc/\n"
   ]
  },
  {
   "cell_type": "code",
   "execution_count": null,
   "metadata": {},
   "outputs": [],
   "source": [
    "shutil.rmtree(work_dir)"
   ]
  },
  {
   "cell_type": "code",
   "execution_count": null,
   "metadata": {},
   "outputs": [],
   "source": [
    "work_dir"
   ]
  },
  {
   "cell_type": "code",
   "execution_count": null,
   "metadata": {},
   "outputs": [],
   "source": []
  }
 ],
 "metadata": {
  "kernelspec": {
   "display_name": "Python 2",
   "language": "python",
   "name": "python2"
  },
  "language_info": {
   "codemirror_mode": {
    "name": "ipython",
    "version": 3
   },
   "file_extension": ".py",
   "mimetype": "text/x-python",
   "name": "python",
   "nbconvert_exporter": "python",
   "pygments_lexer": "ipython3",
   "version": "2.7.17-final"
  }
 },
 "nbformat": 4,
 "nbformat_minor": 2
}