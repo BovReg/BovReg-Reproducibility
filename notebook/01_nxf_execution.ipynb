{
 "cells": [
  {
   "cell_type": "markdown",
   "metadata": {},
   "source": "# Run pipeline with nextflow and conda"
  },
  {
   "cell_type": "code",
   "execution_count": null,
   "metadata": {},
   "outputs": [],
   "source": "# Command to change to the base directory of the repository\nimport os\npwd = os.getcwd()\nos.getcwd()\npipeline_folder = \"rnaseq-nf\" \nwork_dir = pwd + \"/../\" + pipeline_folder\nos.chdir(work_dir)\nos.getcwd()"
  },
  {
   "cell_type": "code",
   "execution_count": null,
   "metadata": {},
   "outputs": [],
   "source": "!nextflow run main.nf -profile conda"
  }
 ],
 "metadata": {
  "kernelspec": {
   "display_name": "Python 2",
   "language": "python",
   "name": "python2"
  }
 },
 "nbformat": 4,
 "nbformat_minor": 4
}
