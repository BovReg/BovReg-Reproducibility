{
 "cells": [
  {
   "cell_type": "markdown",
   "metadata": {},
   "source": [
    "# Run pipeline with nextflow and docker"
   ]
  },
  {
   "cell_type": "markdown",
   "metadata": {},
   "source": [
    "### explain how to install docker and nextflow"
   ]
  },
  {
   "cell_type": "code",
   "execution_count": null,
   "metadata": {},
   "outputs": [],
   "source": []
  },
  {
   "cell_type": "markdown",
   "metadata": {},
   "source": [
    "### Set pipeline folder"
   ]
  },
  {
   "cell_type": "code",
   "execution_count": 1,
   "metadata": {},
   "outputs": [],
   "source": [
    "# Command to change to the base directory of the repository\n",
    "import os, shutil\n",
    "pwd = os.getcwd()\n",
    "pipeline_folder = pwd + \"/../\" + \"rnaseq-nf\" \n",
    "\n",
    "os.chdir(pipeline_folder)"
   ]
  },
  {
   "cell_type": "code",
   "execution_count": 2,
   "metadata": {},
   "outputs": [
    {
     "name": "stdout",
     "output_type": "stream",
     "text": [
      "N E X T F L O W  ~  version 19.10.0\n",
      "Launching `main.nf` [trusting_newton] - revision: a30e9b3e6a\n",
      "R N A S E Q - N F   P I P E L I N E\n",
      " ===================================\n",
      " transcriptome: /home/jespinosa/git/BovReg-Reproducibility/rnaseq-nf/data/ggal/ggal_1_48850000_49020000.Ggal71.500bpflank.fa\n",
      " reads        : /home/jespinosa/git/BovReg-Reproducibility/rnaseq-nf/data/ggal/ggal_gut_{1,2}.fq\n",
      " outdir       : results\n",
      "[-        ] process > rename_file -\u001b[K\n",
      "[-        ] process > index       -\u001b[K\n",
      "[-        ] process > quant       -\u001b[K\n",
      "[-        ] process > fastqc      -\u001b[K\n",
      "[-        ] process > multiqc     -\u001b[K\n",
      "\u001b[6A\n",
      "executor >  local (2)\u001b[K\n",
      "[76/b0b15e] process > rename_file (ggal_gut)         [  0%] 0 of 1\u001b[K\n",
      "[61/0f33ba] process > index (ggal_1_48850000_4902... [  0%] 0 of 1\u001b[K\n",
      "[-        ] process > quant                          -\u001b[K\n",
      "[-        ] process > fastqc                         -\u001b[K\n",
      "[-        ] process > multiqc                        -\u001b[K\n",
      "\u001b[7A\n",
      "executor >  local (3)\u001b[K\n",
      "[76/b0b15e] process > rename_file (ggal_gut)         [100%] 1 of 1 ✔\u001b[K\n",
      "[61/0f33ba] process > index (ggal_1_48850000_4902... [  0%] 0 of 1\u001b[K\n",
      "[-        ] process > quant                          -\u001b[K\n",
      "[33/19f428] process > fastqc (FASTQC on chicken_gut) [  0%] 0 of 1\u001b[K\n",
      "[-        ] process > multiqc                        -\u001b[K\n",
      "\u001b[7A\n",
      "executor >  local (4)\u001b[K\n",
      "[76/b0b15e] process > rename_file (ggal_gut)         [100%] 1 of 1 ✔\u001b[K\n",
      "[61/0f33ba] process > index (ggal_1_48850000_4902... [100%] 1 of 1 ✔\u001b[K\n",
      "[ad/39f3ae] process > quant (chicken_gut)            [  0%] 0 of 1\u001b[K\n",
      "[33/19f428] process > fastqc (FASTQC on chicken_gut) [  0%] 0 of 1\u001b[K\n",
      "[-        ] process > multiqc                        -\u001b[K\n",
      "\u001b[7A\n",
      "executor >  local (4)\u001b[K\n",
      "[76/b0b15e] process > rename_file (ggal_gut)         [100%] 1 of 1 ✔\u001b[K\n",
      "[61/0f33ba] process > index (ggal_1_48850000_4902... [100%] 1 of 1 ✔\u001b[K\n",
      "[ad/39f3ae] process > quant (chicken_gut)            [100%] 1 of 1 ✔\u001b[K\n",
      "[33/19f428] process > fastqc (FASTQC on chicken_gut) [  0%] 0 of 1\u001b[K\n",
      "[-        ] process > multiqc                        -\u001b[K\n",
      "\u001b[7A\n",
      "executor >  local (5)\u001b[K\n",
      "[76/b0b15e] process > rename_file (ggal_gut)         [100%] 1 of 1 ✔\u001b[K\n",
      "[61/0f33ba] process > index (ggal_1_48850000_4902... [100%] 1 of 1 ✔\u001b[K\n",
      "[ad/39f3ae] process > quant (chicken_gut)            [100%] 1 of 1 ✔\u001b[K\n",
      "[33/19f428] process > fastqc (FASTQC on chicken_gut) [100%] 1 of 1 ✔\u001b[K\n",
      "[cf/ae33f7] process > multiqc                        [  0%] 0 of 1\u001b[K\n",
      "\u001b[7A\n",
      "executor >  local (5)\u001b[K\n",
      "[76/b0b15e] process > rename_file (ggal_gut)         [100%] 1 of 1 ✔\u001b[K\n",
      "[61/0f33ba] process > index (ggal_1_48850000_4902... [100%] 1 of 1 ✔\u001b[K\n",
      "[ad/39f3ae] process > quant (chicken_gut)            [100%] 1 of 1 ✔\u001b[K\n",
      "[33/19f428] process > fastqc (FASTQC on chicken_gut) [100%] 1 of 1 ✔\u001b[K\n",
      "[cf/ae33f7] process > multiqc                        [100%] 1 of 1 ✔\u001b[K\n",
      "Done! Open the following report in your browser --> results/multiqc_report.html\u001b[K\n",
      "\n"
     ]
    }
   ],
   "source": [
    "!nextflow run main.nf -with-docker"
   ]
  },
  {
   "cell_type": "markdown",
   "metadata": {},
   "source": [
    "### Calling firefox to display multiQC report "
   ]
  },
  {
   "cell_type": "code",
   "execution_count": 5,
   "metadata": {},
   "outputs": [],
   "source": [
    "!firefox ./results_multiqc/multiqc_report.html"
   ]
  },
  {
   "cell_type": "code",
   "execution_count": null,
   "metadata": {},
   "outputs": [],
   "source": []
  }
 ],
 "metadata": {
  "kernelspec": {
   "display_name": "Python 3",
   "language": "python",
   "name": "python3"
  },
  "language_info": {
   "codemirror_mode": {
    "name": "ipython",
    "version": 3
   },
   "file_extension": ".py",
   "mimetype": "text/x-python",
   "name": "python",
   "nbconvert_exporter": "python",
   "pygments_lexer": "ipython3",
   "version": "3.6.10"
  }
 },
 "nbformat": 4,
 "nbformat_minor": 2
}
