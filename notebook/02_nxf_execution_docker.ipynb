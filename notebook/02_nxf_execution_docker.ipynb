{
 "cells": [
  {
   "cell_type": "markdown",
   "metadata": {},
   "source": [
    "# Run pipeline with nextflow and docker"
   ]
  },
  {
   "cell_type": "code",
   "execution_count": 2,
   "metadata": {},
   "outputs": [
    {
     "data": {
      "text/plain": [
       "'/home/kadomu/git/BovReg-Reproducibility/rnaseq-nf'"
      ]
     },
     "execution_count": 2,
     "metadata": {},
     "output_type": "execute_result"
    }
   ],
   "source": [
    "# Command to change to the base directory of the repository\n",
    "import os\n",
    "pwd = os.getcwd()\n",
    "os.getcwd()\n",
    "pipeline_folder = \"rnaseq-nf\" \n",
    "work_dir = pwd + \"/../\" + pipeline_folder\n",
    "os.chdir(work_dir)\n",
    "os.getcwd()"
   ]
  },
  {
   "cell_type": "code",
   "execution_count": 4,
   "metadata": {},
   "outputs": [
    {
     "name": "stdout",
     "output_type": "stream",
     "text": [
      "N E X T F L O W  ~  version 19.10.0\n",
      "Launching `main.nf` [big_payne] - revision: 9b447d35a3\n",
      "R N A S E Q - N F   P I P E L I N E\n",
      " ===================================\n",
      " transcriptome: /home/kadomu/git/BovReg-Reproducibility/rnaseq-nf/data/ggal/ggal_1_48850000_49020000.Ggal71.500bpflank.fa\n",
      " reads        : /home/kadomu/git/BovReg-Reproducibility/rnaseq-nf/data/ggal/ggal_gut_{1,2}.fq\n",
      " outdir       : results\n",
      "[-        ] process > index   -\u001b[K\n",
      "[-        ] process > quant   -\u001b[K\n",
      "[-        ] process > fastqc  -\u001b[K\n",
      "[-        ] process > multiqc -\u001b[K\n",
      "\u001b[5A\n",
      "executor >  local (2)\u001b[K\n",
      "[60/76aa22] process > index (ggal_1_48850000_4902... [  0%] 0 of 1\u001b[K\n",
      "[-        ] process > quant                          -\u001b[K\n",
      "[23/1227cb] process > fastqc (FASTQC on ggal_gut)    [  0%] 0 of 1\u001b[K\n",
      "[-        ] process > multiqc                        -\u001b[K\n",
      "\u001b[6A\n",
      "executor >  local (3)\u001b[K\n",
      "[60/76aa22] process > index (ggal_1_48850000_4902... [100%] 1 of 1 ✔\u001b[K\n",
      "[99/3a5c62] process > quant (ggal_gut)               [  0%] 0 of 1\u001b[K\n",
      "[23/1227cb] process > fastqc (FASTQC on ggal_gut)    [  0%] 0 of 1\u001b[K\n",
      "[-        ] process > multiqc                        -\u001b[K\n",
      "\u001b[6A\n",
      "executor >  local (3)\u001b[K\n",
      "[60/76aa22] process > index (ggal_1_48850000_4902... [100%] 1 of 1 ✔\u001b[K\n",
      "[99/3a5c62] process > quant (ggal_gut)               [100%] 1 of 1 ✔\u001b[K\n",
      "[23/1227cb] process > fastqc (FASTQC on ggal_gut)    [  0%] 0 of 1\u001b[K\n",
      "[-        ] process > multiqc                        -\u001b[K\n",
      "\u001b[6A\n",
      "executor >  local (3)\u001b[K\n",
      "[60/76aa22] process > index (ggal_1_48850000_4902... [100%] 1 of 1 ✔\u001b[K\n",
      "[99/3a5c62] process > quant (ggal_gut)               [100%] 1 of 1 ✔\u001b[K\n",
      "[23/1227cb] process > fastqc (FASTQC on ggal_gut)    [100%] 1 of 1 ✔\u001b[K\n",
      "[-        ] process > multiqc                        -\u001b[K\n",
      "\u001b[6A\n",
      "executor >  local (4)\u001b[K\n",
      "[60/76aa22] process > index (ggal_1_48850000_4902... [100%] 1 of 1 ✔\u001b[K\n",
      "[99/3a5c62] process > quant (ggal_gut)               [100%] 1 of 1 ✔\u001b[K\n",
      "[23/1227cb] process > fastqc (FASTQC on ggal_gut)    [100%] 1 of 1 ✔\u001b[K\n",
      "[76/fc4529] process > multiqc                        [  0%] 0 of 1\u001b[K\n",
      "\u001b[6A\n",
      "executor >  local (4)\u001b[K\n",
      "[60/76aa22] process > index (ggal_1_48850000_4902... [100%] 1 of 1 ✔\u001b[K\n",
      "[99/3a5c62] process > quant (ggal_gut)               [100%] 1 of 1 ✔\u001b[K\n",
      "[23/1227cb] process > fastqc (FASTQC on ggal_gut)    [100%] 1 of 1 ✔\u001b[K\n",
      "[76/fc4529] process > multiqc                        [100%] 1 of 1 ✔\u001b[K\n",
      "Done! Open the following report in your browser --> results/multiqc_report.html\u001b[K\n",
      "\n"
     ]
    }
   ],
   "source": [
    "!nextflow run main.nf -with-docker"
   ]
  },
  {
   "cell_type": "code",
   "execution_count": null,
   "metadata": {},
   "outputs": [],
   "source": []
  }
 ],
 "metadata": {
  "kernelspec": {
   "display_name": "Python 3",
   "language": "python",
   "name": "python3"
  },
  "language_info": {
   "codemirror_mode": {
    "name": "ipython",
    "version": 3
   },
   "file_extension": ".py",
   "mimetype": "text/x-python",
   "name": "python",
   "nbconvert_exporter": "python",
   "pygments_lexer": "ipython3",
   "version": "3.6.10"
  }
 },
 "nbformat": 4,
 "nbformat_minor": 2
}
