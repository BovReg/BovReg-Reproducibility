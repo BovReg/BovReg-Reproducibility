{
 "cells": [
  {
   "cell_type": "markdown",
   "metadata": {},
   "source": [
    "1. Install nextflow by running the following command:\n",
    "\n",
    "```bash\n",
    "$ curl -fsSL get.nextflow.io | bash\n",
    "```\n",
    "\n",
    "> **_Note:_** You can optionally move the nextflow file to a directory accessible by your $PATH variable \n",
    "(otherwise you will have to type always the full path to run nextflow).\n",
    "\n",
    "2. Follow [this](https://docs.docker.com/install/) instructions to install Docker Engine 1.10.x (or later)   \n"
   ]
  }
 ],
 "metadata": {
  "kernelspec": {
   "display_name": "Python 2",
   "language": "python",
   "name": "python2"
  },
  "language_info": {
   "codemirror_mode": {
    "name": "ipython",
    "version": 3
   },
   "file_extension": ".py",
   "mimetype": "text/x-python",
   "name": "python",
   "nbconvert_exporter": "python",
   "pygments_lexer": "ipython3",
   "version": "3.6.10"
  }
 },
 "nbformat": 4,
 "nbformat_minor": 4
}
