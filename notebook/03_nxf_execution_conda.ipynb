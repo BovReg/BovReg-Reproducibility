{
 "cells": [
  {
   "cell_type": "markdown",
   "metadata": {},
   "source": "# Run pipeline with nextflow and conda\n\nYou need to install Conda and Nextflow before running this notebook following these [instructions](install_nextflow_docker.ipynb).\n\n> **_Note:_** Assumes you launched the notebook from `your_path/BovReg-Reproducibility/notebook/`"
  },
  {
   "cell_type": "code",
   "execution_count": null,
   "metadata": {},
   "outputs": [],
   "source": "# Commands to change to the base directory of the repository\nimport os, shutil\npwd = os.getcwd()\npipeline_folder = pwd + \"/../\" + \"rnaseq-nf\" \n\nos.chdir(pipeline_folder)"
  },
  {
   "cell_type": "code",
   "execution_count": null,
   "metadata": {},
   "outputs": [],
   "source": "!nextflow run main.nf -profile conda"
  },
  {
   "cell_type": "markdown",
   "metadata": {},
   "source": "### Calling firefox to display multiQC report "
  },
  {
   "cell_type": "code",
   "execution_count": null,
   "metadata": {},
   "outputs": [],
   "source": "!firefox results_multiqc/multiqc_report.html"
  }
 ],
 "metadata": {
  "kernelspec": {
   "display_name": "Python 2",
   "language": "python",
   "name": "python2"
  },
  "language_info": {
   "codemirror_mode": {
    "name": "ipython",
    "version": 2
   },
   "file_extension": ".py",
   "mimetype": "text/x-python",
   "name": "python",
   "nbconvert_exporter": "python",
   "pygments_lexer": "ipython2",
   "version": "2.7.16"
  }
 },
 "nbformat": 4,
 "nbformat_minor": 4
}
