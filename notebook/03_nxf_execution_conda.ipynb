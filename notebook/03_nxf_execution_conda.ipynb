{
 "cells": [
  {
   "cell_type": "markdown",
   "metadata": {},
   "source": [
    "# Run pipeline with nextflow and conda\n",
    "\n",
    "You need to install Conda and Nextflow before running this notebook following the corresponding instructions [here](https://docs.conda.io/projects/conda/en/latest/user-guide/install/) and [here](https://www.nextflow.io/docs/latest/getstarted.html#installation).\n",
    "\n",
    "> **_Note:_** Assumes you launched the notebook from `your_path/BovReg-Reproducibility/notebook/`\n",
    "\n"
   ]
  },
  {
   "cell_type": "code",
   "execution_count": 1,
   "metadata": {},
   "outputs": [],
   "source": [
    "# Commands to change to the base directory of the repository\n",
    "import os, shutil\n",
    "pwd = os.getcwd()\n",
    "pipeline_folder = pwd + \"/../\" + \"rnaseq-nf\" \n",
    "\n",
    "os.chdir(pipeline_folder)"
   ]
  },
  {
   "cell_type": "code",
   "execution_count": null,
   "metadata": {},
   "outputs": [],
   "source": [
    "!nextflow run main.nf -profile conda"
   ]
  },
  {
   "cell_type": "markdown",
   "metadata": {},
   "source": [
    "### Calling firefox to display multiQC report "
   ]
  },
  {
   "cell_type": "code",
   "execution_count": null,
   "metadata": {},
   "outputs": [],
   "source": [
    "!firefox results_multiqc/multiqc_report.html"
   ]
  }
 ],
 "metadata": {
  "kernelspec": {
   "display_name": "Python 3",
   "language": "python",
   "name": "python3"
  },
  "language_info": {
   "codemirror_mode": {
    "name": "ipython",
    "version": 3
   },
   "file_extension": ".py",
   "mimetype": "text/x-python",
   "name": "python",
   "nbconvert_exporter": "python",
   "pygments_lexer": "ipython3",
   "version": "3.6.7"
  }
 },
 "nbformat": 4,
 "nbformat_minor": 4
}
