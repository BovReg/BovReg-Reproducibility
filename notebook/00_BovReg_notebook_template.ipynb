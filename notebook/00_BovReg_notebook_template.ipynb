{
 "cells": [
  {
   "cell_type": "markdown",
   "metadata": {},
   "source": [
    "# BovReg Reproducibility\n",
    "\n",
    "This template aims to be a guide for the development of reproducible BovReg bioinformatics analyses. Importantly, the main objective of these [Jupyter](http://jupyter.org/) notebooks is that the results obtained by each of the BovReg partners can be reproduced by WP3 in the standardized pipelines.\n",
    "\n",
    "We include several notebooks on this template so that you can choose which one fits better with your preferences. Once you choose your preferred approach, you can adapt the corresponding template to run your workflow.\n",
    "\n",
    "### [1. Naive execution using Bash](01_naive_execution.ipynb)\n",
    "\n",
    "### [2. Execution using a workflow manager (Nextflow) and Docker](02_nxf_execution_docker.ipynb)\n",
    "\n",
    "### [3. Execution using a workflow (Nextflow) manager and Conda](03_nxf_execution_conda.ipynb)\n"
   ]
  }
 ],
 "metadata": {
  "kernelspec": {
   "display_name": "Python 3",
   "language": "python",
   "name": "python3"
  },
  "language_info": {
   "codemirror_mode": {
    "name": "ipython",
    "version": 3
   },
   "file_extension": ".py",
   "mimetype": "text/x-python",
   "name": "python",
   "nbconvert_exporter": "python",
   "pygments_lexer": "ipython3",
   "version": "3.6.7"
  }
 },
 "nbformat": 4,
 "nbformat_minor": 2
}
