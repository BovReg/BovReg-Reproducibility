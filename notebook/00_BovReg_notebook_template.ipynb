{
 "cells": [
  {
   "cell_type": "markdown",
   "metadata": {},
   "source": "# BovReg Reproducibility\n\nThis template aims to be a guide for the development of reproducible BovReg bioinformatics analyses. Importantly, the main objective of these [Jupyter](http://jupyter.org/) notebooks is that the results obtained by each of the BovReg partners can be reproduced by WP3 in the standardized pipelines.\n\nThe template runs a RNA-seq toy pipeline using [Salmon](https://combine-lab.github.io/salmon/) and includes the following steps:\n\n1- Index transcriptome (Salmon)\n\n2- Quantifies transcripts, Maps RNA-seq reads (Salmon)\n\n3- Quality of RNA-seq data (FastQC)\n\n4- Generates html report with quality stats from FastQC and Salmon (MultiQC)\n\n## General requirements:\n\n\n\n### [1. Execution using a workflow manager (Python / Bash)](01_nxf_execution.ipynb)\n\n\n\n\n"
  },
  {
   "cell_type": "raw",
   "metadata": {},
   "source": ""
  }
 ],
 "metadata": {
  "kernelspec": {
   "display_name": "Python 2",
   "language": "python",
   "name": "python2"
  },
  "language_info": {
   "codemirror_mode": {
    "name": "ipython",
    "version": 2
   },
   "file_extension": ".py",
   "mimetype": "text/x-python",
   "name": "python",
   "nbconvert_exporter": "python",
   "pygments_lexer": "ipython2",
   "version": "2.7.16"
  }
 },
 "nbformat": 4,
 "nbformat_minor": 2
}
