{
 "cells": [
  {
   "cell_type": "markdown",
   "metadata": {},
   "source": [
    "# BovReg Reproducibility\n",
    "\n",
    "This template aims to be a guide for the development of reproducible BovReg bioinformatics analyses. Importantly, the main objective of these [Jupyter](http://jupyter.org/) notebooks is that the results obtained by each of the BovReg partners can be reproduced by WP3 in the standardized pipelines.\n",
    "\n",
    "The template runs a RNA-seq toy pipeline using [Salmon](https://combine-lab.github.io/salmon/) and includes the following steps:\n",
    "\n",
    "1- Index transcriptome (Salmon)\n",
    "\n",
    "2- Quantifies transcripts, Maps RNA-seq reads (Salmon)\n",
    "\n",
    "3- Quality of RNA-seq data (FastQC)\n",
    "\n",
    "4- Generates html report with quality stats from FastQC and Salmon (MultiQC)\n",
    " \n",
    "## General requirements:\n",
    "\n",
    "\n",
    "\n",
    "### [1. Execution using a workflow manager (Python / Bash)](01_nxf_execution_conda.ipynb)\n",
    "\n",
    "### [2. Execution using a workflow manager (Python / Bash)](02_nxf_execution_docker.ipynb)\n",
    "\n",
    "### [3. Execution using a workflow manager (Python / Bash)](03_naive_execution.ipynb)\n",
    "\n"
   ]
  },
  {
   "cell_type": "code",
   "execution_count": null,
   "metadata": {},
   "outputs": [],
   "source": []
  }
 ],
 "metadata": {
  "kernelspec": {
   "display_name": "Python 3",
   "language": "python",
   "name": "python3"
  },
  "language_info": {
   "codemirror_mode": {
    "name": "ipython",
    "version": 3
   },
   "file_extension": ".py",
   "mimetype": "text/x-python",
   "name": "python",
   "nbconvert_exporter": "python",
   "pygments_lexer": "ipython3",
   "version": "3.6.10"
  }
 },
 "nbformat": 4,
 "nbformat_minor": 2
}
