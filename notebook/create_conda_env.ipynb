{
 "cells": [
  {
   "cell_type": "markdown",
   "metadata": {},
   "source": [
    "1. If you don't have conda installed in your system follow the instructions [here](https://docs.conda.io/projects/conda/en/latest/user-guide/install/)\n",
    "\n",
    "2. Create the environment from the repository `yml` file.\n",
    "\n",
    "```bash\n",
    "cd /your_path/BovReg-Reproducibility/rnaseq-nf\n",
    "conda env create -f conda.yml\n",
    "\n",
    "```\n",
    "\n",
    "3. Once the environment is created activate it\n",
    "\n",
    "```bash\n",
    "conda activate rnaseq-nf\n",
    "```\n",
    "\n",
    "4. Run the jupyter notebook after activating the environment\n",
    "\n",
    "```bash\n",
    "jupyter notebook\n",
    "```"
   ]
  }
 ],
 "metadata": {
  "kernelspec": {
   "display_name": "Python 3",
   "language": "python",
   "name": "python3"
  },
  "language_info": {
   "codemirror_mode": {
    "name": "ipython",
    "version": 3
   },
   "file_extension": ".py",
   "mimetype": "text/x-python",
   "name": "python",
   "nbconvert_exporter": "python",
   "pygments_lexer": "ipython3",
   "version": "3.6.10"
  }
 },
 "nbformat": 4,
 "nbformat_minor": 4
}
